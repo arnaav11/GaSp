{
 "cells": [
  {
   "cell_type": "code",
   "execution_count": null,
   "id": "4ceb01ad",
   "metadata": {},
   "outputs": [],
   "source": [
    "print(\"test\")\n",
    "print('') \n",
    "\n"
   ]
  },
  {
   "cell_type": "code",
   "execution_count": null,
   "id": "4b470ddd",
   "metadata": {},
   "outputs": [],
   "source": []
  }
 ],
 "metadata": {
  "kernelspec": {
   "display_name": "Python 3",
   "language": "python",
   "name": "python3"
  },
  "language_info": {
   "name": "python",
   "version": "3.10.7"
  }
 },
 "nbformat": 4,
 "nbformat_minor": 5
}
